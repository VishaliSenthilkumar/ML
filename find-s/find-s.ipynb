{
 "cells": [
  {
   "cell_type": "code",
   "execution_count": 10,
   "metadata": {},
   "outputs": [
    {
     "data": {
      "text/html": [
       "<div>\n",
       "<style scoped>\n",
       "    .dataframe tbody tr th:only-of-type {\n",
       "        vertical-align: middle;\n",
       "    }\n",
       "\n",
       "    .dataframe tbody tr th {\n",
       "        vertical-align: top;\n",
       "    }\n",
       "\n",
       "    .dataframe thead th {\n",
       "        text-align: right;\n",
       "    }\n",
       "</style>\n",
       "<table border=\"1\" class=\"dataframe\">\n",
       "  <thead>\n",
       "    <tr style=\"text-align: right;\">\n",
       "      <th></th>\n",
       "      <th>Sky</th>\n",
       "      <th>AirTemp</th>\n",
       "      <th>Humidity</th>\n",
       "      <th>Wind</th>\n",
       "      <th>Water</th>\n",
       "      <th>Forecast</th>\n",
       "      <th>EnjoySport</th>\n",
       "    </tr>\n",
       "  </thead>\n",
       "  <tbody>\n",
       "    <tr>\n",
       "      <th>0</th>\n",
       "      <td>sunny</td>\n",
       "      <td>warm</td>\n",
       "      <td>normal</td>\n",
       "      <td>strong</td>\n",
       "      <td>warm</td>\n",
       "      <td>same</td>\n",
       "      <td>Yes</td>\n",
       "    </tr>\n",
       "    <tr>\n",
       "      <th>1</th>\n",
       "      <td>sunny</td>\n",
       "      <td>warm</td>\n",
       "      <td>high</td>\n",
       "      <td>strong</td>\n",
       "      <td>warm</td>\n",
       "      <td>same</td>\n",
       "      <td>Yes</td>\n",
       "    </tr>\n",
       "    <tr>\n",
       "      <th>2</th>\n",
       "      <td>rainy</td>\n",
       "      <td>cold</td>\n",
       "      <td>high</td>\n",
       "      <td>strong</td>\n",
       "      <td>warm</td>\n",
       "      <td>change</td>\n",
       "      <td>No</td>\n",
       "    </tr>\n",
       "    <tr>\n",
       "      <th>3</th>\n",
       "      <td>sunny</td>\n",
       "      <td>warm</td>\n",
       "      <td>high</td>\n",
       "      <td>strong</td>\n",
       "      <td>cool</td>\n",
       "      <td>change</td>\n",
       "      <td>Yes</td>\n",
       "    </tr>\n",
       "  </tbody>\n",
       "</table>\n",
       "</div>"
      ],
      "text/plain": [
       "     Sky AirTemp Humidity    Wind Water Forecast EnjoySport\n",
       "0  sunny    warm   normal  strong  warm     same        Yes\n",
       "1  sunny    warm     high  strong  warm     same        Yes\n",
       "2  rainy    cold     high  strong  warm   change         No\n",
       "3  sunny    warm     high  strong  cool   change        Yes"
      ]
     },
     "execution_count": 10,
     "metadata": {},
     "output_type": "execute_result"
    }
   ],
   "source": [
    "import pandas as pd\n",
    "dataset = pd.read_csv('enjoysport.csv')\n",
    "dataset"
   ]
  },
  {
   "cell_type": "code",
   "execution_count": 11,
   "metadata": {},
   "outputs": [
    {
     "data": {
      "text/plain": [
       "['Sky', 'AirTemp', 'Humidity', 'Wind', 'Water', 'Forecast']"
      ]
     },
     "execution_count": 11,
     "metadata": {},
     "output_type": "execute_result"
    }
   ],
   "source": [
    "attributes = dataset.columns.values.tolist()[:-1]\n",
    "num_attributes = len(attributes)\n",
    "attributes"
   ]
  },
  {
   "cell_type": "code",
   "execution_count": 12,
   "metadata": {},
   "outputs": [
    {
     "data": {
      "text/html": [
       "<div>\n",
       "<style scoped>\n",
       "    .dataframe tbody tr th:only-of-type {\n",
       "        vertical-align: middle;\n",
       "    }\n",
       "\n",
       "    .dataframe tbody tr th {\n",
       "        vertical-align: top;\n",
       "    }\n",
       "\n",
       "    .dataframe thead th {\n",
       "        text-align: right;\n",
       "    }\n",
       "</style>\n",
       "<table border=\"1\" class=\"dataframe\">\n",
       "  <thead>\n",
       "    <tr style=\"text-align: right;\">\n",
       "      <th></th>\n",
       "      <th>Sky</th>\n",
       "      <th>AirTemp</th>\n",
       "      <th>Humidity</th>\n",
       "      <th>Wind</th>\n",
       "      <th>Water</th>\n",
       "      <th>Forecast</th>\n",
       "    </tr>\n",
       "  </thead>\n",
       "  <tbody>\n",
       "    <tr>\n",
       "      <th>0</th>\n",
       "      <td>sunny</td>\n",
       "      <td>warm</td>\n",
       "      <td>normal</td>\n",
       "      <td>strong</td>\n",
       "      <td>warm</td>\n",
       "      <td>same</td>\n",
       "    </tr>\n",
       "    <tr>\n",
       "      <th>1</th>\n",
       "      <td>sunny</td>\n",
       "      <td>warm</td>\n",
       "      <td>high</td>\n",
       "      <td>strong</td>\n",
       "      <td>warm</td>\n",
       "      <td>same</td>\n",
       "    </tr>\n",
       "    <tr>\n",
       "      <th>2</th>\n",
       "      <td>rainy</td>\n",
       "      <td>cold</td>\n",
       "      <td>high</td>\n",
       "      <td>strong</td>\n",
       "      <td>warm</td>\n",
       "      <td>change</td>\n",
       "    </tr>\n",
       "    <tr>\n",
       "      <th>3</th>\n",
       "      <td>sunny</td>\n",
       "      <td>warm</td>\n",
       "      <td>high</td>\n",
       "      <td>strong</td>\n",
       "      <td>cool</td>\n",
       "      <td>change</td>\n",
       "    </tr>\n",
       "  </tbody>\n",
       "</table>\n",
       "</div>"
      ],
      "text/plain": [
       "     Sky AirTemp Humidity    Wind Water Forecast\n",
       "0  sunny    warm   normal  strong  warm     same\n",
       "1  sunny    warm     high  strong  warm     same\n",
       "2  rainy    cold     high  strong  warm   change\n",
       "3  sunny    warm     high  strong  cool   change"
      ]
     },
     "execution_count": 12,
     "metadata": {},
     "output_type": "execute_result"
    }
   ],
   "source": [
    "# features = dataset.iloc[:, :-1]\n",
    "features = dataset[dataset.columns[:-1]]\n",
    "features"
   ]
  },
  {
   "cell_type": "code",
   "execution_count": 13,
   "metadata": {},
   "outputs": [
    {
     "data": {
      "text/plain": [
       "[['sunny', 'warm', 'normal', 'strong', 'warm', 'same'],\n",
       " ['sunny', 'warm', 'high', 'strong', 'warm', 'same'],\n",
       " ['rainy', 'cold', 'high', 'strong', 'warm', 'change'],\n",
       " ['sunny', 'warm', 'high', 'strong', 'cool', 'change']]"
      ]
     },
     "execution_count": 13,
     "metadata": {},
     "output_type": "execute_result"
    }
   ],
   "source": [
    "features.values.tolist()"
   ]
  },
  {
   "cell_type": "code",
   "execution_count": 14,
   "metadata": {},
   "outputs": [
    {
     "data": {
      "text/plain": [
       "0    Yes\n",
       "1    Yes\n",
       "2     No\n",
       "3    Yes\n",
       "Name: EnjoySport, dtype: object"
      ]
     },
     "execution_count": 14,
     "metadata": {},
     "output_type": "execute_result"
    }
   ],
   "source": [
    "# response = dataset.iloc[:, -1]\n",
    "response = dataset[dataset.columns[-1]]\n",
    "response"
   ]
  },
  {
   "cell_type": "code",
   "execution_count": 15,
   "metadata": {},
   "outputs": [
    {
     "data": {
      "text/plain": [
       "['Yes', 'Yes', 'No', 'Yes']"
      ]
     },
     "execution_count": 15,
     "metadata": {},
     "output_type": "execute_result"
    }
   ],
   "source": [
    "response.tolist()"
   ]
  },
  {
   "cell_type": "code",
   "execution_count": 16,
   "metadata": {},
   "outputs": [
    {
     "name": "stdout",
     "output_type": "stream",
     "text": [
      "\n",
      "Initial Hypothesis\n",
      "\n",
      " Hypothesis 0 :  ['0', '0', '0', '0', '0', '0']\n"
     ]
    }
   ],
   "source": [
    "hypothesis = ['0']*num_attributes\n",
    "print(\"\\nInitial Hypothesis\")\n",
    "print(\"\\n Hypothesis 0 : \", hypothesis)"
   ]
  },
  {
   "cell_type": "code",
   "execution_count": 17,
   "metadata": {},
   "outputs": [],
   "source": [
    "for i in range(num_attributes):\n",
    "    hypothesis[i] = features.iat[0, i]"
   ]
  },
  {
   "cell_type": "code",
   "execution_count": 18,
   "metadata": {},
   "outputs": [
    {
     "name": "stdout",
     "output_type": "stream",
     "text": [
      "\n",
      " Find S: Finding a Maximally Specific Hypothesis \n",
      "\n",
      "\n",
      " Hypothesis 1 :  ['sunny', 'warm', 'normal', 'strong', 'warm', 'same']\n",
      "\n",
      " Hypothesis 2 :  ['sunny', 'warm', '?', 'strong', 'warm', 'same']\n",
      "\n",
      " Hypothesis 3 :  ['sunny', 'warm', '?', 'strong', 'warm', 'same']\n",
      "\n",
      " Hypothesis 4 :  ['sunny', 'warm', '?', 'strong', '?', '?']\n"
     ]
    }
   ],
   "source": [
    "print(\"\\n Find S: Finding a Maximally Specific Hypothesis \\n\")\n",
    "for i in range(len(features)):\n",
    "    if(response[i]=='Yes'):\n",
    "        for j in range(num_attributes):\n",
    "            if(hypothesis[j]!=features.iat[i, j]):\n",
    "                hypothesis[j]='?'\n",
    "    print(\"\\n Hypothesis {} : \".format(i+1), hypothesis)"
   ]
  }
 ],
 "metadata": {
  "kernelspec": {
   "display_name": "Python 3",
   "language": "python",
   "name": "python3"
  },
  "language_info": {
   "codemirror_mode": {
    "name": "ipython",
    "version": 3
   },
   "file_extension": ".py",
   "mimetype": "text/x-python",
   "name": "python",
   "nbconvert_exporter": "python",
   "pygments_lexer": "ipython3",
   "version": "3.11.0"
  },
  "orig_nbformat": 4
 },
 "nbformat": 4,
 "nbformat_minor": 2
}
