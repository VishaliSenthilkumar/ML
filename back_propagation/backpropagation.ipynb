{
 "cells": [
  {
   "cell_type": "code",
   "execution_count": 123,
   "metadata": {},
   "outputs": [],
   "source": [
    "import numpy as np\n",
    "import pandas as pd\n",
    "import torch.nn.functional as functional\n",
    "import torch\n",
    "# Reading the data\n",
    "data = pd.read_csv(\"back.csv\")"
   ]
  },
  {
   "cell_type": "code",
   "execution_count": 124,
   "metadata": {},
   "outputs": [],
   "source": [
    "inputs = data.drop('Temp',axis=1).values\n",
    "target = data.Temp.values  # target = data['Temp'].values"
   ]
  },
  {
   "cell_type": "code",
   "execution_count": 125,
   "metadata": {},
   "outputs": [
    {
     "data": {
      "text/plain": [
       "array([[ 67,  45,  50],\n",
       "       [ 50,  35,  40],\n",
       "       [104,  78,  65],\n",
       "       [140,  98, 100],\n",
       "       [ 93,  56,  75],\n",
       "       [ 79,  43,  55]], dtype=int64)"
      ]
     },
     "execution_count": 125,
     "metadata": {},
     "output_type": "execute_result"
    }
   ],
   "source": [
    "inputs"
   ]
  },
  {
   "cell_type": "code",
   "execution_count": 126,
   "metadata": {},
   "outputs": [
    {
     "data": {
      "text/plain": [
       "array([ 73,  91,  83,  95,  77, 101], dtype=int64)"
      ]
     },
     "execution_count": 126,
     "metadata": {},
     "output_type": "execute_result"
    }
   ],
   "source": [
    "target"
   ]
  },
  {
   "cell_type": "code",
   "execution_count": 127,
   "metadata": {},
   "outputs": [],
   "source": [
    "inputs = torch.tensor(inputs, dtype=torch.float32)\n",
    "target = torch.tensor(target, dtype=torch.float32)\n",
    "target = target.reshape(-1,1)"
   ]
  },
  {
   "cell_type": "code",
   "execution_count": 128,
   "metadata": {},
   "outputs": [
    {
     "data": {
      "text/plain": [
       "tensor([[ 67.,  45.,  50.],\n",
       "        [ 50.,  35.,  40.],\n",
       "        [104.,  78.,  65.],\n",
       "        [140.,  98., 100.],\n",
       "        [ 93.,  56.,  75.],\n",
       "        [ 79.,  43.,  55.]])"
      ]
     },
     "execution_count": 128,
     "metadata": {},
     "output_type": "execute_result"
    }
   ],
   "source": [
    "inputs"
   ]
  },
  {
   "cell_type": "code",
   "execution_count": 129,
   "metadata": {},
   "outputs": [
    {
     "data": {
      "text/plain": [
       "tensor([[ 73.],\n",
       "        [ 91.],\n",
       "        [ 83.],\n",
       "        [ 95.],\n",
       "        [ 77.],\n",
       "        [101.]])"
      ]
     },
     "execution_count": 129,
     "metadata": {},
     "output_type": "execute_result"
    }
   ],
   "source": [
    "target"
   ]
  },
  {
   "cell_type": "code",
   "execution_count": 130,
   "metadata": {},
   "outputs": [
    {
     "name": "stdout",
     "output_type": "stream",
     "text": [
      "tensor([[-1.4156,  0.1975,  0.8215]], requires_grad=True)\n",
      "tensor([-2.0141], requires_grad=True)\n"
     ]
    }
   ],
   "source": [
    "w = torch.randn(1, 3, requires_grad=True) # 1 row and 3 column\n",
    "b = torch.randn(1, requires_grad=True)\n",
    "print(w)\n",
    "print(b)"
   ]
  },
  {
   "cell_type": "code",
   "execution_count": 131,
   "metadata": {},
   "outputs": [],
   "source": [
    "def model(x):\n",
    "    return x @ w.t() + b "
   ]
  },
  {
   "cell_type": "code",
   "execution_count": 132,
   "metadata": {},
   "outputs": [
    {
     "name": "stdout",
     "output_type": "stream",
     "text": [
      "tensor([[-46.9016],\n",
      "        [-33.0253],\n",
      "        [-80.4413],\n",
      "        [-98.7031],\n",
      "        [-60.9990],\n",
      "        [-60.1766]], grad_fn=<AddBackward0>)\n"
     ]
    }
   ],
   "source": [
    "prediction = model(inputs)\n",
    "print(prediction)"
   ]
  },
  {
   "cell_type": "code",
   "execution_count": 133,
   "metadata": {},
   "outputs": [
    {
     "name": "stdout",
     "output_type": "stream",
     "text": [
      "tensor(23169.0391, grad_fn=<MseLossBackward0>)\n"
     ]
    }
   ],
   "source": [
    "mse = functional.mse_loss\n",
    "loss = mse(prediction,target)\n",
    "print(loss)"
   ]
  },
  {
   "cell_type": "code",
   "execution_count": 134,
   "metadata": {},
   "outputs": [
    {
     "name": "stdout",
     "output_type": "stream",
     "text": [
      "tensor([[-27972.6211, -18708.7734, -20054.9082]])\n",
      "tensor([-300.0823])\n"
     ]
    }
   ],
   "source": [
    "loss.backward()\n",
    "print(w.grad)\n",
    "print(b.grad)"
   ]
  },
  {
   "cell_type": "code",
   "execution_count": 135,
   "metadata": {},
   "outputs": [],
   "source": [
    "# Adjust weights & reset gradients\n",
    "with torch.no_grad():\n",
    "    w -= w.grad * 1e-5\n",
    "    b -= b.grad * 1e-5\n",
    "    w.grad.zero_()\n",
    "    b.grad.zero_()"
   ]
  },
  {
   "cell_type": "code",
   "execution_count": 136,
   "metadata": {},
   "outputs": [
    {
     "name": "stdout",
     "output_type": "stream",
     "text": [
      "tensor(10451.6836, grad_fn=<MseLossBackward0>)\n",
      "tensor([[-1.1359,  0.3845,  1.0220]], requires_grad=True)\n",
      "tensor(4958.4219, grad_fn=<MseLossBackward0>)\n",
      "tensor([[-0.9519,  0.5071,  1.1540]], requires_grad=True)\n",
      "tensor(2585.5535, grad_fn=<MseLossBackward0>)\n",
      "tensor([[-0.8308,  0.5873,  1.2409]], requires_grad=True)\n",
      "tensor(1560.5153, grad_fn=<MseLossBackward0>)\n",
      "tensor([[-0.7511,  0.6396,  1.2981]], requires_grad=True)\n",
      "tensor(1117.6622, grad_fn=<MseLossBackward0>)\n",
      "tensor([[-0.6986,  0.6736,  1.3360]], requires_grad=True)\n",
      "tensor(926.2800, grad_fn=<MseLossBackward0>)\n",
      "tensor([[-0.6639,  0.6955,  1.3610]], requires_grad=True)\n",
      "tensor(843.5184, grad_fn=<MseLossBackward0>)\n",
      "tensor([[-0.6410,  0.7096,  1.3776]], requires_grad=True)\n",
      "tensor(807.6752, grad_fn=<MseLossBackward0>)\n",
      "tensor([[-0.6258,  0.7184,  1.3886]], requires_grad=True)\n",
      "tensor(792.0984, grad_fn=<MseLossBackward0>)\n",
      "tensor([[-0.6157,  0.7239,  1.3961]], requires_grad=True)\n",
      "tensor(785.2753, grad_fn=<MseLossBackward0>)\n",
      "tensor([[-0.6089,  0.7271,  1.4011]], requires_grad=True)\n"
     ]
    }
   ],
   "source": [
    "for i in range(10):\n",
    "    pred = model(inputs)\n",
    "    error=mse(pred, target)\n",
    "    print(error)\n",
    "    print(w)\n",
    "    error.backward()\n",
    "    with torch.no_grad():\n",
    "        w -= w.grad * 1e-5\n",
    "        b -= b.grad * 1e-5\n",
    "        w.grad.zero_()\n",
    "        b.grad.zero_()"
   ]
  }
 ],
 "metadata": {
  "kernelspec": {
   "display_name": "Python 3",
   "language": "python",
   "name": "python3"
  },
  "language_info": {
   "codemirror_mode": {
    "name": "ipython",
    "version": 3
   },
   "file_extension": ".py",
   "mimetype": "text/x-python",
   "name": "python",
   "nbconvert_exporter": "python",
   "pygments_lexer": "ipython3",
   "version": "3.11.0"
  }
 },
 "nbformat": 4,
 "nbformat_minor": 2
}
