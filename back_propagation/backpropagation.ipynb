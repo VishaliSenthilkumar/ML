{
 "cells": [
  {
   "cell_type": "code",
   "execution_count": 15,
   "metadata": {},
   "outputs": [],
   "source": [
    "import numpy as np\n",
    "import pandas as pd\n",
    "import torch.nn.functional as functional\n",
    "import torch\n",
    "# Reading the data\n",
    "data = pd.read_csv(\"back.csv\")"
   ]
  },
  {
   "cell_type": "code",
   "execution_count": 16,
   "metadata": {},
   "outputs": [],
   "source": [
    "inputs = data.drop('Temp',axis=1).values\n",
    "target = data.Temp.values  # target = data['Temp'].values"
   ]
  },
  {
   "cell_type": "code",
   "execution_count": 17,
   "metadata": {},
   "outputs": [
    {
     "data": {
      "text/plain": [
       "array([[ 67,  45,  50],\n",
       "       [ 50,  35,  40],\n",
       "       [104,  78,  65],\n",
       "       [140,  98, 100],\n",
       "       [ 93,  56,  75],\n",
       "       [ 79,  43,  55]], dtype=int64)"
      ]
     },
     "execution_count": 17,
     "metadata": {},
     "output_type": "execute_result"
    }
   ],
   "source": [
    "inputs"
   ]
  },
  {
   "cell_type": "code",
   "execution_count": 18,
   "metadata": {},
   "outputs": [
    {
     "data": {
      "text/plain": [
       "array([ 73,  91,  83,  95,  77, 101], dtype=int64)"
      ]
     },
     "execution_count": 18,
     "metadata": {},
     "output_type": "execute_result"
    }
   ],
   "source": [
    "target"
   ]
  },
  {
   "cell_type": "code",
   "execution_count": 19,
   "metadata": {},
   "outputs": [],
   "source": [
    "inputs = torch.tensor(inputs, dtype=torch.float32)\n",
    "target = torch.tensor(target, dtype=torch.float32)\n",
    "target = target.reshape(-1,1)"
   ]
  },
  {
   "cell_type": "code",
   "execution_count": 20,
   "metadata": {},
   "outputs": [
    {
     "data": {
      "text/plain": [
       "tensor([[ 67.,  45.,  50.],\n",
       "        [ 50.,  35.,  40.],\n",
       "        [104.,  78.,  65.],\n",
       "        [140.,  98., 100.],\n",
       "        [ 93.,  56.,  75.],\n",
       "        [ 79.,  43.,  55.]])"
      ]
     },
     "execution_count": 20,
     "metadata": {},
     "output_type": "execute_result"
    }
   ],
   "source": [
    "inputs"
   ]
  },
  {
   "cell_type": "code",
   "execution_count": 21,
   "metadata": {},
   "outputs": [
    {
     "data": {
      "text/plain": [
       "tensor([[ 73.],\n",
       "        [ 91.],\n",
       "        [ 83.],\n",
       "        [ 95.],\n",
       "        [ 77.],\n",
       "        [101.]])"
      ]
     },
     "execution_count": 21,
     "metadata": {},
     "output_type": "execute_result"
    }
   ],
   "source": [
    "target"
   ]
  },
  {
   "cell_type": "code",
   "execution_count": 22,
   "metadata": {},
   "outputs": [
    {
     "name": "stdout",
     "output_type": "stream",
     "text": [
      "tensor([[-0.1030, -0.2925, -0.8210]], requires_grad=True)\n",
      "tensor([-1.4993], requires_grad=True)\n"
     ]
    }
   ],
   "source": [
    "w = torch.randn(1, 3, requires_grad=True) # 1 row and 3 column\n",
    "b = torch.randn(1, requires_grad=True)\n",
    "print(w)\n",
    "print(b)"
   ]
  },
  {
   "cell_type": "code",
   "execution_count": 23,
   "metadata": {},
   "outputs": [],
   "source": [
    "def model(x):\n",
    "    return x @ w.t() + b "
   ]
  },
  {
   "cell_type": "code",
   "execution_count": 24,
   "metadata": {},
   "outputs": [
    {
     "name": "stdout",
     "output_type": "stream",
     "text": [
      "tensor([[ -62.6174],\n",
      "        [ -49.7303],\n",
      "        [ -88.3985],\n",
      "        [-126.6940],\n",
      "        [ -89.0396],\n",
      "        [ -67.3740]], grad_fn=<AddBackward0>)\n"
     ]
    }
   ],
   "source": [
    "prediction = model(inputs)\n",
    "print(prediction)"
   ]
  },
  {
   "cell_type": "code",
   "execution_count": 25,
   "metadata": {},
   "outputs": [
    {
     "name": "stdout",
     "output_type": "stream",
     "text": [
      "tensor(28773.6152, grad_fn=<MseLossBackward0>)\n"
     ]
    }
   ],
   "source": [
    "mse = functional.mse_loss\n",
    "loss = mse(prediction,target)\n",
    "print(loss)"
   ]
  },
  {
   "cell_type": "code",
   "execution_count": 26,
   "metadata": {},
   "outputs": [
    {
     "name": "stdout",
     "output_type": "stream",
     "text": [
      "tensor([[-31242.9023, -20887.2441, -22477.9727]])\n",
      "tensor([-334.6179])\n"
     ]
    }
   ],
   "source": [
    "loss.backward()\n",
    "print(w.grad)\n",
    "print(b.grad)"
   ]
  },
  {
   "cell_type": "code",
   "execution_count": 27,
   "metadata": {},
   "outputs": [],
   "source": [
    "# Adjust weights & reset gradients\n",
    "with torch.no_grad():\n",
    "    w -= w.grad * 1e-5\n",
    "    b -= b.grad * 1e-5\n",
    "    w.grad.zero_()\n",
    "    b.grad.zero_()"
   ]
  },
  {
   "cell_type": "code",
   "execution_count": 28,
   "metadata": {},
   "outputs": [
    {
     "name": "stdout",
     "output_type": "stream",
     "text": [
      "tensor(12882.7109, grad_fn=<MseLossBackward0>)\n",
      "tensor([[ 0.2094, -0.0836, -0.5962]], requires_grad=True)\n",
      "tensor(6018.5464, grad_fn=<MseLossBackward0>)\n",
      "tensor([[ 0.4148,  0.0531, -0.4481]], requires_grad=True)\n",
      "tensor(3053.4158, grad_fn=<MseLossBackward0>)\n",
      "tensor([[ 0.5499,  0.1425, -0.3504]], requires_grad=True)\n",
      "tensor(1772.4430, grad_fn=<MseLossBackward0>)\n",
      "tensor([[ 0.6387,  0.2007, -0.2858]], requires_grad=True)\n",
      "tensor(1218.9303, grad_fn=<MseLossBackward0>)\n",
      "tensor([[ 0.6972,  0.2384, -0.2429]], requires_grad=True)\n",
      "tensor(979.6391, grad_fn=<MseLossBackward0>)\n",
      "tensor([[ 0.7357,  0.2627, -0.2144]], requires_grad=True)\n",
      "tensor(876.0737, grad_fn=<MseLossBackward0>)\n",
      "tensor([[ 0.7610,  0.2782, -0.1952]], requires_grad=True)\n",
      "tensor(831.1346, grad_fn=<MseLossBackward0>)\n",
      "tensor([[ 0.7778,  0.2878, -0.1822]], requires_grad=True)\n",
      "tensor(811.5191, grad_fn=<MseLossBackward0>)\n",
      "tensor([[ 0.7889,  0.2936, -0.1733]], requires_grad=True)\n",
      "tensor(802.8423, grad_fn=<MseLossBackward0>)\n",
      "tensor([[ 0.7962,  0.2969, -0.1671]], requires_grad=True)\n",
      "tensor(798.8909, grad_fn=<MseLossBackward0>)\n",
      "tensor([[ 0.8011,  0.2986, -0.1626]], requires_grad=True)\n",
      "tensor(796.9811, grad_fn=<MseLossBackward0>)\n",
      "tensor([[ 0.8044,  0.2991, -0.1593]], requires_grad=True)\n",
      "tensor(795.9534, grad_fn=<MseLossBackward0>)\n",
      "tensor([[ 0.8066,  0.2990, -0.1567]], requires_grad=True)\n",
      "tensor(795.3073, grad_fn=<MseLossBackward0>)\n",
      "tensor([[ 0.8082,  0.2984, -0.1546]], requires_grad=True)\n",
      "tensor(794.8262, grad_fn=<MseLossBackward0>)\n",
      "tensor([[ 0.8093,  0.2975, -0.1529]], requires_grad=True)\n",
      "tensor(794.4171, grad_fn=<MseLossBackward0>)\n",
      "tensor([[ 0.8100,  0.2964, -0.1514]], requires_grad=True)\n",
      "tensor(794.0393, grad_fn=<MseLossBackward0>)\n",
      "tensor([[ 0.8106,  0.2952, -0.1500]], requires_grad=True)\n",
      "tensor(793.6755, grad_fn=<MseLossBackward0>)\n",
      "tensor([[ 0.8111,  0.2938, -0.1487]], requires_grad=True)\n",
      "tensor(793.3184, grad_fn=<MseLossBackward0>)\n",
      "tensor([[ 0.8115,  0.2924, -0.1475]], requires_grad=True)\n",
      "tensor(792.9641, grad_fn=<MseLossBackward0>)\n",
      "tensor([[ 0.8118,  0.2910, -0.1463]], requires_grad=True)\n"
     ]
    }
   ],
   "source": [
    "for i in range(20):\n",
    "    pred = model(inputs)\n",
    "    error=mse(pred, target)\n",
    "    print(error)\n",
    "    print(w)\n",
    "    error.backward()\n",
    "    with torch.no_grad():\n",
    "        w -= w.grad * 1e-5\n",
    "        b -= b.grad * 1e-5\n",
    "        w.grad.zero_()\n",
    "        b.grad.zero_()"
   ]
  }
 ],
 "metadata": {
  "kernelspec": {
   "display_name": "Python 3",
   "language": "python",
   "name": "python3"
  },
  "language_info": {
   "codemirror_mode": {
    "name": "ipython",
    "version": 3
   },
   "file_extension": ".py",
   "mimetype": "text/x-python",
   "name": "python",
   "nbconvert_exporter": "python",
   "pygments_lexer": "ipython3",
   "version": "3.11.0"
  }
 },
 "nbformat": 4,
 "nbformat_minor": 2
}
