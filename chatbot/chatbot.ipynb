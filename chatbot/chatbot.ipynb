{
 "cells": [
  {
   "cell_type": "code",
   "execution_count": 4,
   "metadata": {},
   "outputs": [],
   "source": [
    "def simple_chatbot(user_input):\n",
    "    predefined_questions = {\n",
    "        \"hi\": \"Hello there!\",\n",
    "        \"how are you\": \"I'm good, thank you!\",\n",
    "        \"what is your name\": \"My name is I BOT.\",\n",
    "        \"who created you\": \"I was created by [Creator's Name].\",\n",
    "        \"bye\": \"Goodbye! Have a great day!\",\n",
    "        \"tell me a joke\": \"Why don't scientists trust atoms? Because they make up everything!\",\n",
    "        \"what is the weather today\": \"I'm sorry, I don't have access to weather information.\",\n",
    "        \"can you help me\": \"Sure, I'll do my best to assist you.\",\n",
    "        \"what's your favorite color\": \"I don't have the ability to see colors, but I appreciate all of them!\",\n",
    "        \"where are you from\": \"I exist in the digital realm!\",\n",
    "        \"what do you do\": \"I'm here to chat and provide information to the best of my ability.\",\n",
    "        \"how old are you\": \"I don't have an age as I'm just a computer program!\",\n",
    "        \"what is the meaning of life\": \"That's a deep question! The answer may vary for each individual.\",\n",
    "        \"do you dream\": \"I don't sleep or dream as I am a computer program.\",\n",
    "        \"what languages do you speak\": \"I communicate in human languages that I've been programmed to understand.\",\n",
    "        \"what are your hobbies\": \"I don't have personal hobbies, but I enjoy helping and interacting with people!\",\n",
    "    }\n",
    "\n",
    "    user_input_lower = user_input.lower()\n",
    "\n",
    "    for question in predefined_questions:\n",
    "        if question in user_input_lower:\n",
    "            return predefined_questions[question]\n",
    "\n",
    "    return \"I'm sorry, I don't understand that question.\"\n"
   ]
  },
  {
   "cell_type": "code",
   "execution_count": 5,
   "metadata": {},
   "outputs": [],
   "source": [
    "\n",
    "def chat():\n",
    "    print(\"Bot: Hello! I'm your chatbot. Type 'bye' to end the conversation.\")\n",
    "\n",
    "    while True:\n",
    "        user_input = input(\"You: \")\n",
    "\n",
    "        if user_input.lower() == 'bye':\n",
    "            print(\"Chatbot: Goodbye!\")\n",
    "            break\n",
    "\n",
    "        response = simple_chatbot(user_input)\n",
    "        print(f\"Chatbot: {response}\")\n"
   ]
  },
  {
   "cell_type": "code",
   "execution_count": 6,
   "metadata": {},
   "outputs": [
    {
     "name": "stdout",
     "output_type": "stream",
     "text": [
      "Bot: Hello! I'm your chatbot. Type 'bye' to end the conversation.\n",
      "Chatbot: Hello there!\n",
      "Chatbot: Why don't scientists trust atoms? Because they make up everything!\n",
      "Chatbot: I exist in the digital realm!\n",
      "Chatbot: I'm sorry, I don't understand that question.\n",
      "Chatbot: Goodbye!\n"
     ]
    }
   ],
   "source": [
    "\n",
    "chat()\n"
   ]
  }
 ],
 "metadata": {
  "kernelspec": {
   "display_name": "Python 3",
   "language": "python",
   "name": "python3"
  },
  "language_info": {
   "codemirror_mode": {
    "name": "ipython",
    "version": 3
   },
   "file_extension": ".py",
   "mimetype": "text/x-python",
   "name": "python",
   "nbconvert_exporter": "python",
   "pygments_lexer": "ipython3",
   "version": "3.11.0"
  }
 },
 "nbformat": 4,
 "nbformat_minor": 2
}
